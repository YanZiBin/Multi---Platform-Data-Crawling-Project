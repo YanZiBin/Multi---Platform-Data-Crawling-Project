{
 "cells": [
  {
   "cell_type": "code",
   "execution_count": 1,
   "metadata": {},
   "outputs": [
    {
     "name": "stdout",
     "output_type": "stream",
     "text": [
      "总页数: 8\n",
      "总用户数: 238\n",
      "总内容数: 238\n",
      "总时间数: 238\n",
      "总客户端数: 238\n",
      "\n",
      "数据已保存到'用户数据.xlsx'文件中\n"
     ]
    }
   ],
   "source": [
    "import pandas as pd\n",
    "import re  # 确保导入re模块\n",
    "\n",
    "# 存储所有页面的数据\n",
    "all_users = []\n",
    "all_contents = []\n",
    "all_times = []\n",
    "all_kuhuduan = []\n",
    "\n",
    "# 循环读取8个文件\n",
    "total_pages = 8\n",
    "for i in range(1, total_pages + 1):\n",
    "    path = rf'E:\\Yan.doument2\\programming exercises\\python\\Test\\第一题网页源代码\\data{i}.txt'\n",
    "    with open(path, encoding='utf-8') as f:\n",
    "        src = f.read()\n",
    "    \n",
    "    # 提取当前页面数据\n",
    "    user_list = re.findall('<a data-field=.*?nk\">(.*?)</a>', src, re.S)\n",
    "    content_list = re.findall('y:;\">                (.*?)</div>', src, re.S)\n",
    "    time_list = re.findall('<span class=\"tail-info\">(\\d{4}-\\d{2}-\\d{2} \\d{2}:\\d{2})</span>', src, re.S)\n",
    "    \n",
    "    # 修改客户端提取逻辑\n",
    "    kehuduan_list = []\n",
    "    post_divs = re.findall('<div class=\"post-tail-wrap\">(.*?)</div>', src, re.S)\n",
    "    for div in post_divs:\n",
    "        # 检查是否存在客户端信息\n",
    "        client_match = re.search('来自<a.*?>(.*?客户端)</a>', div)\n",
    "        if client_match:\n",
    "            kehuduan_list.append(client_match.group(1))\n",
    "        else:\n",
    "            kehuduan_list.append('0')  # 如果没有客户端信息，直接添加'0'\n",
    "    \n",
    "    # 将当前页面数据添加到总列表中\n",
    "    all_users.extend(user_list)\n",
    "    all_contents.extend(content_list) \n",
    "    all_times.extend(time_list)\n",
    "    all_kuhuduan.extend(kehuduan_list)\n",
    "\n",
    "# 创建一个字典来存储数据\n",
    "data = {\n",
    "    '用户名': all_users,\n",
    "    '内容': all_contents,\n",
    "    '时间': all_times,\n",
    "    '客户端': all_kuhuduan\n",
    "}\n",
    "\n",
    "# 创建DataFrame并保存为Excel\n",
    "df = pd.DataFrame(data)\n",
    "df.to_excel('用户数据.xlsx', index=False)\n",
    "\n",
    "# 打印总数据\n",
    "print(f\"总页数: {total_pages}\")\n",
    "print(f\"总用户数: {len(all_users)}\")\n",
    "print(f\"总内容数: {len(all_contents)}\")\n",
    "print(f\"总时间数: {len(all_times)}\")\n",
    "print(f\"总客户端数: {len(all_kuhuduan)}\")\n",
    "\n",
    "print(\"\\n数据已保存到'用户数据.xlsx'文件中\")"
   ]
  }
 ],
 "metadata": {
  "kernelspec": {
   "display_name": "Taobao",
   "language": "python",
   "name": "python3"
  },
  "language_info": {
   "codemirror_mode": {
    "name": "ipython",
    "version": 3
   },
   "file_extension": ".py",
   "mimetype": "text/x-python",
   "name": "python",
   "nbconvert_exporter": "python",
   "pygments_lexer": "ipython3",
   "version": "3.9.7"
  }
 },
 "nbformat": 4,
 "nbformat_minor": 2
}
